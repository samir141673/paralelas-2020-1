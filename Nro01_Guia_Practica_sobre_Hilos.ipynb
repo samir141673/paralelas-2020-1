{
  "nbformat": 4,
  "nbformat_minor": 0,
  "metadata": {
    "colab": {
      "name": " Nro01-Guia-Practica-sobre-Hilos",
      "provenance": [],
      "include_colab_link": true
    },
    "kernelspec": {
      "name": "python3",
      "display_name": "Python 3"
    }
  },
  "cells": [
    {
      "cell_type": "markdown",
      "metadata": {
        "id": "view-in-github",
        "colab_type": "text"
      },
      "source": [
        "<a href=\"https://colab.research.google.com/github/samir141673/paralelas-2020-1/blob/main/Nro01_Guia_Practica_sobre_Hilos.ipynb\" target=\"_parent\"><img src=\"https://colab.research.google.com/assets/colab-badge.svg\" alt=\"Open In Colab\"/></a>"
      ]
    },
    {
      "cell_type": "markdown",
      "metadata": {
        "id": "0t6Kh2cjLOYt"
      },
      "source": [
        "**PARALELISMO CON HILOS**"
      ]
    },
    {
      "cell_type": "markdown",
      "metadata": {
        "id": "KzMhMFL_HeKN"
      },
      "source": [
        "El siguiente código **identifica los hilos** utilizados. Las líneas 1-5 comentan el código siguiendo la estructura *input, procedimiento, output*"
      ]
    },
    {
      "cell_type": "code",
      "metadata": {
        "colab": {
          "base_uri": "https://localhost:8080/"
        },
        "id": "Zh7e5suksiyB",
        "outputId": "935f6a27-12d0-4611-b424-8923e776ce7a"
      },
      "source": [
        "#input: nro de hilos\n",
        "#procedimiento:\n",
        "# - Thread_worker() obtiene el nombre de un hilo con la función currentThread().getName() \n",
        "# - cada hilo llama a Thread_worker()\n",
        "#output: Thread_worker() imprime el nombre del hilo tomado\n",
        "\n",
        "import threading\n",
        "  \n",
        "THREADS_COUNT = 3  \n",
        "\n",
        "class Threaded_worker(threading.Thread):\n",
        "    def __init__(self):\n",
        "        threading.Thread.__init__(self)\n",
        "    def run(self):\n",
        "        threadName = threading.currentThread().getName() \n",
        "        print(\"Hola, Soy el thread(hilo) %s\" % threadName)\n",
        "\n",
        "print('Inicializando %d threads...' % THREADS_COUNT)\n",
        "for i in range(THREADS_COUNT):\n",
        "    td = Threaded_worker()\n",
        "    td.start()\n"
      ],
      "execution_count": null,
      "outputs": [
        {
          "output_type": "stream",
          "text": [
            "Inicializando 3 threads...\n",
            "Hola, Soy el thread(hilo) Thread-4\n",
            "Hola, Soy el thread(hilo) Thread-5Hola, Soy el thread(hilo) Thread-6\n",
            "\n"
          ],
          "name": "stdout"
        }
      ]
    },
    {
      "cell_type": "code",
      "metadata": {
        "colab": {
          "base_uri": "https://localhost:8080/"
        },
        "id": "h7X_w1v9cpVC",
        "outputId": "43b31591-5c9d-4952-ac3c-eb0b33f9ef27"
      },
      "source": [
        "import threading\n",
        "#threading.active_count()\n",
        "#threading.current_thread()\n",
        "#threading.get_ident()\n",
        "#threading.enumerate()\n",
        "threading.main_thread()"
      ],
      "execution_count": null,
      "outputs": [
        {
          "output_type": "execute_result",
          "data": {
            "text/plain": [
              "<_MainThread(MainThread, started 139984618841984)>"
            ]
          },
          "metadata": {
            "tags": []
          },
          "execution_count": 7
        }
      ]
    },
    {
      "cell_type": "markdown",
      "metadata": {
        "id": "a3M6kv6AJ79t"
      },
      "source": [
        "El siguiente código utiliza la libreria **os** para nombras a los hilos como procesos. Analizar el código y comentarlo siguiendo la estructura *input-procedimiento-output*"
      ]
    },
    {
      "cell_type": "code",
      "metadata": {
        "colab": {
          "base_uri": "https://localhost:8080/"
        },
        "id": "dGbgVg0YsreA",
        "outputId": "64cfd496-4284-40fd-a236-c1c9fbab4f6b"
      },
      "source": [
        "# input numero de procesos \n",
        "# proceso:\n",
        "#se pone un identificador a cada ID\n",
        "# corre los procesos segun su IDs  \n",
        "#salida  se muestra en un arreglo  los PID  \n",
        "import multiprocessing\n",
        "import os\n",
        "\n",
        "WORKER_NUMBER = 4\n",
        "\n",
        "def worker():\n",
        "    PID = os.getpid()\n",
        "    print (\"Hola, soy el proceso son PID %d\" % PID)\n",
        "\n",
        "print ('Inicializando %d procesos...' % WORKER_NUMBER)\n",
        "\n",
        "jobs = []\n",
        "for i in range(WORKER_NUMBER):\n",
        "    p = multiprocessing.Process(target=worker, args=())\n",
        "    jobs.append(p)\n",
        "    p.start()"
      ],
      "execution_count": null,
      "outputs": [
        {
          "output_type": "stream",
          "text": [
            "Inicializando 4 procesos...\n",
            "Hola, soy el proceso son PID 187\n",
            "Hola, soy el proceso son PID 188\n",
            "Hola, soy el proceso son PID 191\n",
            "Hola, soy el proceso son PID 196\n"
          ],
          "name": "stdout"
        }
      ]
    },
    {
      "cell_type": "markdown",
      "metadata": {
        "id": "Hapqzy8DKhIH"
      },
      "source": [
        "En el siguiente código ¿Porqué el hilo 3 no se imprime?"
      ]
    },
    {
      "cell_type": "code",
      "metadata": {
        "colab": {
          "base_uri": "https://localhost:8080/"
        },
        "id": "JcG3A2DJD6lr",
        "outputId": "9c846103-6b61-4912-ae72-ebae806b5b5d"
      },
      "source": [
        "import threading\n",
        "def cuenta(n,name):\n",
        "    count=n\n",
        "    while count<3:\n",
        "      print(\"%s in count %s\" % (name, count))\n",
        "      count+=1\n",
        "\n",
        "t = threading.Thread(target=cuenta, args=(1, 'thread1'))\n",
        "t2 = threading.Thread(target=cuenta, args=(2, 'thread2'))\n",
        "t3 = threading.Thread(target=cuenta, args=(3, 'thread3'))\n",
        "\n",
        "t.start()\n",
        "t2.start()\n",
        "t3.start()\n"
      ],
      "execution_count": null,
      "outputs": [
        {
          "output_type": "stream",
          "text": [
            "thread1 in count 1\n",
            "thread1 in count 2\n",
            "thread2 in count 2\n"
          ],
          "name": "stdout"
        }
      ]
    },
    {
      "cell_type": "markdown",
      "metadata": {
        "id": "N96cWNTgV8tb"
      },
      "source": [
        "A continuación vamos a usar la **función time** para verificar el tiempo de paralelización. El codigo a continuación imprime el inició y fin luego de x segundos"
      ]
    },
    {
      "cell_type": "code",
      "metadata": {
        "colab": {
          "base_uri": "https://localhost:8080/"
        },
        "id": "R-NkyeQpmDCG",
        "outputId": "1d34f924-a98b-4e55-e865-bc9552054192"
      },
      "source": [
        "import time\n",
        "\n",
        "print (\"Start : %s\" % time.ctime())\n",
        "time.sleep(4)\n",
        "print (\"End : %s\" % time.ctime())\n"
      ],
      "execution_count": null,
      "outputs": [
        {
          "output_type": "stream",
          "text": [
            "Start : Wed Dec  2 12:08:36 2020\n",
            "End : Wed Dec  2 12:08:40 2020\n"
          ],
          "name": "stdout"
        }
      ]
    },
    {
      "cell_type": "markdown",
      "metadata": {
        "id": "sOB4G5hHW8UQ"
      },
      "source": [
        "El siguiente ejemplo da un espacio entre los hilos, lo cual se verifica con la función time. ¿Existe paralelismo aqui? explicar"
      ]
    },
    {
      "cell_type": "code",
      "metadata": {
        "colab": {
          "base_uri": "https://localhost:8080/"
        },
        "id": "52oIOIKwJKOC",
        "outputId": "320f7d03-d904-4440-9f9b-4dcdd6853720"
      },
      "source": [
        "import threading\n",
        "import time\n",
        "\n",
        "def print_time(name):\n",
        "    count = 0   \n",
        "    print(\"inicio %s: %s. count %s\" % ( name, time.ctime(), count))\n",
        "    while count < 5:\n",
        "        count+=1\n",
        "        print(\"%s: %s. count %s\" % ( name, time.ctime(time.time()), count))\n",
        "\n",
        "        \n",
        "t1 = threading.Thread(target=print_time, args=(\"Thread-1\", ) )\n",
        "t2 = threading.Thread(target=print_time, args=(\"Thread-2\", ) )\n",
        "\n",
        "t1.start()\n",
        "time.sleep(2)\n",
        "t2.start()"
      ],
      "execution_count": null,
      "outputs": [
        {
          "output_type": "stream",
          "text": [
            "inicio Thread-1: Wed Dec  2 12:03:38 2020. count 0\n",
            "Thread-1: Wed Dec  2 12:03:38 2020. count 1\n",
            "Thread-1: Wed Dec  2 12:03:38 2020. count 2\n",
            "Thread-1: Wed Dec  2 12:03:38 2020. count 3\n",
            "Thread-1: Wed Dec  2 12:03:38 2020. count 4\n",
            "Thread-1: Wed Dec  2 12:03:38 2020. count 5\n",
            "inicio Thread-2: Wed Dec  2 12:03:40 2020. count 0\n",
            "Thread-2: Wed Dec  2 12:03:40 2020. count 1\n",
            "Thread-2: Wed Dec  2 12:03:40 2020. count 2\n",
            "Thread-2: Wed Dec  2 12:03:40 2020. count 3\n",
            "Thread-2: Wed Dec  2 12:03:40 2020. count 4\n",
            "Thread-2: Wed Dec  2 12:03:40 2020. count 5\n"
          ],
          "name": "stdout"
        }
      ]
    },
    {
      "cell_type": "markdown",
      "metadata": {
        "id": "XuS0iTU2V6kV"
      },
      "source": [
        "**Problema propuesto:** \n",
        "Ejecute varias veces el código a continuación y explique al menos 2 resultados diferentes"
      ]
    },
    {
      "cell_type": "code",
      "metadata": {
        "colab": {
          "base_uri": "https://localhost:8080/"
        },
        "id": "O-JAYILAMvYF",
        "outputId": "a2407c3b-5ed3-4c81-f182-3e30873e4167"
      },
      "source": [
        "import threading\n",
        "import time\n",
        "\n",
        "def print_time(name, n):\n",
        "    count = 0   \n",
        "    print(\"Para el Hilo: %s, en el momento: %s, su valor de count es: %d\" % ( name, time.ctime(), count))\n",
        "    while count < 5:\n",
        "        time.sleep(n)\n",
        "        count+=1\n",
        "        print(\"%s: %s. count %d\" % ( name, time.ctime(), count))\n",
        "\n",
        "        \n",
        "t1 = threading.Thread(target=print_time, args=(\"Thread-1\", 2, ) )\n",
        "t2 = threading.Thread(target=print_time, args=(\"Thread-2\", 4, ) )\n",
        "\n",
        "t1.start()\n",
        "t2.start()"
      ],
      "execution_count": null,
      "outputs": [
        {
          "output_type": "stream",
          "text": [
            "Thread-1: Thu Dec  3 02:32:35 2020. count 1\n",
            "Thread-2: Thu Dec  3 02:32:35 2020. count 4\n",
            "Para el Hilo: Thread-1, en el momento: Thu Dec  3 02:32:35 2020, su valor de count es: 0\n",
            "Para el Hilo: Thread-2, en el momento: Thu Dec  3 02:32:35 2020, su valor de count es: 0\n"
          ],
          "name": "stdout"
        }
      ]
    },
    {
      "cell_type": "markdown",
      "metadata": {
        "id": "CPfa1h0qKAgv"
      },
      "source": [
        "**Explicacion en los dos resultados**\n",
        "\n",
        "**Resultado 1**\n",
        "\n",
        "Para el Hilo: Thread-1, en el momento: Thu Dec  3 01:11:00 2020, su valor de count es: 0\n",
        "\n",
        "Para el Hilo: Thread-2, en el momento: Thu Dec  3 01:11:00 2020, su valor de count es: 0\n",
        "\n",
        "**Observacion  del resultado 1:** t1 y t2 se ejecutan simultaneamente, a la misma hora , en ambos casos vemos q no entran al bucle while \n",
        "\n",
        "**Resultado 2**\n",
        "\n",
        "Thread-1: Thu Dec  3 01:20:19 2020. count 3\n",
        "\n",
        "\n",
        "Para el Hilo: Thread-1, en el momento: Thu Dec  3 01:20:19 2020, su valor de count es: 0\n",
        "\n",
        "Para el Hilo: Thread-2, en el momento: Thu Dec  3 01:20:19 2020, su valor de count es: 0\n",
        "\n",
        "**Explicacion del resultado 2:**\n",
        "\n",
        "Previo ingreso al bucle vemos q T1 y T2 llegan a compilarse al mismo tiempo \n",
        "\n",
        "En este caso observamos que T1 ingresa al bucle mas no no T2\n",
        "\n",
        "**Resultado 3**\n",
        "\n",
        "Thread-1: Thu Dec  3 01:54:49 2020. count 2\n",
        "\n",
        "Thread-2: Thu Dec  3 01:54:49 2020. count 1\n",
        "\n",
        "Para el Hilo: Thread-1, en el momento: Thu Dec  3 \n",
        "01:54:49 2020, su valor de count es: 0\n",
        "\n",
        "Para el Hilo: Thread-2, en el momento: Thu Dec  3 \n",
        "01:54:49 2020, su valor de count es: 0\n",
        "\n",
        "Thread-2: Thu Dec  3 01:54:50 2020. count 4\n",
        "\n",
        "Thread-1: Thu Dec  3 01:54:51 2020. count 3\n",
        "\n",
        "Thread-1: Thu Dec  3 01:54:51 2020. count 1\n",
        "\n",
        "**Explicacion del resultado 3:**\n",
        "Ademas del prmer caso , podemo observar que tambien \n",
        "T1 y T2 ingresa en bucle incluso mas de una vez \n",
        "\n",
        "**Conclucion:**\n",
        "De que haya una variacion de q entre o no al bucle va depender del  hilo de control.\n",
        "este metodo lo clasifica de forma limitada. Hay dos maneras:\n",
        "\n",
        " 1. puede invocar al hilo\n",
        " 2. el anular  el metodo , el hecho que no  lo corra\n",
        "    \n",
        "\n"
      ]
    },
    {
      "cell_type": "markdown",
      "metadata": {
        "id": "7WK60CtWZzXA"
      },
      "source": [
        "Fuentes: \n",
        "http://codigo-python.blogspot.com/2016/11/hilos-y-procesos-i.html\n",
        "\n",
        "https://www.tutorialspoint.com/python3/time_sleep.htm\n",
        "\n",
        "https://docs.python.org/es/3/library/threading.html#thread-objects\n",
        "\n",
        "https://en.wikipedia.org/wiki/Flynn%27s_taxonomy\n",
        "\n",
        "https://github.com/antonioam82/ejercicios-python"
      ]
    },
    {
      "cell_type": "code",
      "metadata": {
        "colab": {
          "base_uri": "https://localhost:8080/"
        },
        "id": "3xZ5Tc-HTdkC",
        "outputId": "343a392c-3f7c-40e4-c92a-81277c6dfca1"
      },
      "source": [
        "import threading\n",
        "import time\n",
        "\n",
        "def print_time(name, n):\n",
        "    count = 0   \n",
        "    print(\"Para el Hilo: %s, en el momento: %s, su valor de count es: %d\" % ( name, time.ctime(), count))\n",
        "    while count < 5:\n",
        "        time.sleep(n)\n",
        "        count+=1\n",
        "        print(\"%s: %s. count %d\" % ( name, time.ctime(), count))\n",
        "\n",
        "        \n",
        "t1 = threading.Thread(target=print_time, args=(\"Thread-1\", 2, ) )\n",
        "t2 = threading.Thread(target=print_time, args=(\"Thread-2\", 4, ) )\n",
        "\n",
        "t1.start()\n",
        "t2.start()"
      ],
      "execution_count": null,
      "outputs": [
        {
          "output_type": "stream",
          "text": [
            "Thread-1: Thu Dec  3 01:54:49 2020. count 2\n",
            "Thread-2: Thu Dec  3 01:54:49 2020. count 1\n",
            "Para el Hilo: Thread-1, en el momento: Thu Dec  3 01:54:49 2020, su valor de count es: 0\n",
            "Para el Hilo: Thread-2, en el momento: Thu Dec  3 01:54:49 2020, su valor de count es: 0\n",
            "Thread-2: Thu Dec  3 01:54:50 2020. count 4\n",
            "Thread-1: Thu Dec  3 01:54:51 2020. count 3\n",
            "Thread-1: Thu Dec  3 01:54:51 2020. count 1\n"
          ],
          "name": "stdout"
        }
      ]
    }
  ]
}